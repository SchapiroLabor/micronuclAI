{
 "cells": [
  {
   "cell_type": "code",
   "execution_count": 1,
   "outputs": [],
   "source": [
    "import pandas as pd\n",
    "import numpy as np\n",
    "from pathlib import Path\n",
    "import seaborn as sns\n",
    "import matplotlib.pyplot as plt"
   ],
   "metadata": {
    "collapsed": false,
    "pycharm": {
     "name": "#%%\n"
    }
   }
  },
  {
   "cell_type": "code",
   "execution_count": 2,
   "outputs": [],
   "source": [
    "predictions = pd.read_csv(Path(\"/Users/miguelibarra/PycharmProjects/cin/data/training/prediction/mesmer_wc_fv10_s0.8_xms70_yms70_re_predictions.csv\"))"
   ],
   "metadata": {
    "collapsed": false,
    "pycharm": {
     "name": "#%%\n"
    }
   }
  },
  {
   "cell_type": "code",
   "execution_count": 40,
   "outputs": [
    {
     "data": {
      "text/plain": "                 image  prediction  has_cin       well\n0     Snap-2396_13.png    0.134426        0  Snap-2396\n1     Snap-2398_16.png    0.030511        0  Snap-2398\n2      Snap-2111_4.png    0.252805        0  Snap-2111\n3      Snap-2000_9.png    0.002176        0  Snap-2000\n4      Snap-2045_9.png    0.006721        0  Snap-2045\n...                ...         ...      ...        ...\n2405  Snap-2313_14.png    0.253745        0  Snap-2313\n2406  Snap-2348_10.png    0.024441        0  Snap-2348\n2407  Snap-2026_17.png    0.025353        0  Snap-2026\n2408   Snap-2083_2.png    0.337185        1  Snap-2083\n2409   Snap-2090_8.png    0.001760        0  Snap-2090\n\n[2410 rows x 4 columns]",
      "text/html": "<div>\n<style scoped>\n    .dataframe tbody tr th:only-of-type {\n        vertical-align: middle;\n    }\n\n    .dataframe tbody tr th {\n        vertical-align: top;\n    }\n\n    .dataframe thead th {\n        text-align: right;\n    }\n</style>\n<table border=\"1\" class=\"dataframe\">\n  <thead>\n    <tr style=\"text-align: right;\">\n      <th></th>\n      <th>image</th>\n      <th>prediction</th>\n      <th>has_cin</th>\n      <th>well</th>\n    </tr>\n  </thead>\n  <tbody>\n    <tr>\n      <th>0</th>\n      <td>Snap-2396_13.png</td>\n      <td>0.134426</td>\n      <td>0</td>\n      <td>Snap-2396</td>\n    </tr>\n    <tr>\n      <th>1</th>\n      <td>Snap-2398_16.png</td>\n      <td>0.030511</td>\n      <td>0</td>\n      <td>Snap-2398</td>\n    </tr>\n    <tr>\n      <th>2</th>\n      <td>Snap-2111_4.png</td>\n      <td>0.252805</td>\n      <td>0</td>\n      <td>Snap-2111</td>\n    </tr>\n    <tr>\n      <th>3</th>\n      <td>Snap-2000_9.png</td>\n      <td>0.002176</td>\n      <td>0</td>\n      <td>Snap-2000</td>\n    </tr>\n    <tr>\n      <th>4</th>\n      <td>Snap-2045_9.png</td>\n      <td>0.006721</td>\n      <td>0</td>\n      <td>Snap-2045</td>\n    </tr>\n    <tr>\n      <th>...</th>\n      <td>...</td>\n      <td>...</td>\n      <td>...</td>\n      <td>...</td>\n    </tr>\n    <tr>\n      <th>2405</th>\n      <td>Snap-2313_14.png</td>\n      <td>0.253745</td>\n      <td>0</td>\n      <td>Snap-2313</td>\n    </tr>\n    <tr>\n      <th>2406</th>\n      <td>Snap-2348_10.png</td>\n      <td>0.024441</td>\n      <td>0</td>\n      <td>Snap-2348</td>\n    </tr>\n    <tr>\n      <th>2407</th>\n      <td>Snap-2026_17.png</td>\n      <td>0.025353</td>\n      <td>0</td>\n      <td>Snap-2026</td>\n    </tr>\n    <tr>\n      <th>2408</th>\n      <td>Snap-2083_2.png</td>\n      <td>0.337185</td>\n      <td>1</td>\n      <td>Snap-2083</td>\n    </tr>\n    <tr>\n      <th>2409</th>\n      <td>Snap-2090_8.png</td>\n      <td>0.001760</td>\n      <td>0</td>\n      <td>Snap-2090</td>\n    </tr>\n  </tbody>\n</table>\n<p>2410 rows × 4 columns</p>\n</div>"
     },
     "execution_count": 40,
     "metadata": {},
     "output_type": "execute_result"
    }
   ],
   "source": [
    "predictions[\"well\"] = predictions[\"image\"].apply(lambda x: x.split(\"_\")[0])\n",
    "predictions"
   ],
   "metadata": {
    "collapsed": false,
    "pycharm": {
     "name": "#%%\n"
    }
   }
  },
  {
   "cell_type": "code",
   "execution_count": 46,
   "outputs": [],
   "source": [
    "predictions[\"has_cin\"]  = (predictions[\"prediction\"]>=0.4).astype(int)"
   ],
   "metadata": {
    "collapsed": false,
    "pycharm": {
     "name": "#%%\n"
    }
   }
  },
  {
   "cell_type": "code",
   "execution_count": 47,
   "outputs": [
    {
     "data": {
      "text/plain": "0    2227\n1     183\nName: has_cin, dtype: int64"
     },
     "execution_count": 47,
     "metadata": {},
     "output_type": "execute_result"
    }
   ],
   "source": [
    "predictions[\"has_cin\"].value_counts()"
   ],
   "metadata": {
    "collapsed": false,
    "pycharm": {
     "name": "#%%\n"
    }
   }
  },
  {
   "cell_type": "code",
   "execution_count": 48,
   "outputs": [
    {
     "data": {
      "text/plain": "                 image  prediction  has_cin       well\n15    Snap-2052_16.png    0.561647        1  Snap-2052\n77    Snap-2050_12.png    0.897272        1  Snap-2050\n99     Snap-2316_6.png    0.900568        1  Snap-2316\n123    Snap-2336_3.png    0.815701        1  Snap-2336\n152    Snap-2070_1.png    0.981121        1  Snap-2070\n...                ...         ...      ...        ...\n2359   Snap-1977_7.png    0.567469        1  Snap-1977\n2362  Snap-2097_19.png    0.456591        1  Snap-2097\n2363   Snap-1997_2.png    0.754196        1  Snap-1997\n2370   Snap-2067_3.png    0.506551        1  Snap-2067\n2404  Snap-2073_16.png    0.833218        1  Snap-2073\n\n[183 rows x 4 columns]",
      "text/html": "<div>\n<style scoped>\n    .dataframe tbody tr th:only-of-type {\n        vertical-align: middle;\n    }\n\n    .dataframe tbody tr th {\n        vertical-align: top;\n    }\n\n    .dataframe thead th {\n        text-align: right;\n    }\n</style>\n<table border=\"1\" class=\"dataframe\">\n  <thead>\n    <tr style=\"text-align: right;\">\n      <th></th>\n      <th>image</th>\n      <th>prediction</th>\n      <th>has_cin</th>\n      <th>well</th>\n    </tr>\n  </thead>\n  <tbody>\n    <tr>\n      <th>15</th>\n      <td>Snap-2052_16.png</td>\n      <td>0.561647</td>\n      <td>1</td>\n      <td>Snap-2052</td>\n    </tr>\n    <tr>\n      <th>77</th>\n      <td>Snap-2050_12.png</td>\n      <td>0.897272</td>\n      <td>1</td>\n      <td>Snap-2050</td>\n    </tr>\n    <tr>\n      <th>99</th>\n      <td>Snap-2316_6.png</td>\n      <td>0.900568</td>\n      <td>1</td>\n      <td>Snap-2316</td>\n    </tr>\n    <tr>\n      <th>123</th>\n      <td>Snap-2336_3.png</td>\n      <td>0.815701</td>\n      <td>1</td>\n      <td>Snap-2336</td>\n    </tr>\n    <tr>\n      <th>152</th>\n      <td>Snap-2070_1.png</td>\n      <td>0.981121</td>\n      <td>1</td>\n      <td>Snap-2070</td>\n    </tr>\n    <tr>\n      <th>...</th>\n      <td>...</td>\n      <td>...</td>\n      <td>...</td>\n      <td>...</td>\n    </tr>\n    <tr>\n      <th>2359</th>\n      <td>Snap-1977_7.png</td>\n      <td>0.567469</td>\n      <td>1</td>\n      <td>Snap-1977</td>\n    </tr>\n    <tr>\n      <th>2362</th>\n      <td>Snap-2097_19.png</td>\n      <td>0.456591</td>\n      <td>1</td>\n      <td>Snap-2097</td>\n    </tr>\n    <tr>\n      <th>2363</th>\n      <td>Snap-1997_2.png</td>\n      <td>0.754196</td>\n      <td>1</td>\n      <td>Snap-1997</td>\n    </tr>\n    <tr>\n      <th>2370</th>\n      <td>Snap-2067_3.png</td>\n      <td>0.506551</td>\n      <td>1</td>\n      <td>Snap-2067</td>\n    </tr>\n    <tr>\n      <th>2404</th>\n      <td>Snap-2073_16.png</td>\n      <td>0.833218</td>\n      <td>1</td>\n      <td>Snap-2073</td>\n    </tr>\n  </tbody>\n</table>\n<p>183 rows × 4 columns</p>\n</div>"
     },
     "execution_count": 48,
     "metadata": {},
     "output_type": "execute_result"
    }
   ],
   "source": [
    "predictions[predictions[\"has_cin\"]==1]"
   ],
   "metadata": {
    "collapsed": false,
    "pycharm": {
     "name": "#%%\n"
    }
   }
  },
  {
   "cell_type": "code",
   "execution_count": 49,
   "outputs": [
    {
     "data": {
      "text/plain": "0    2227\n1     183\nName: has_cin, dtype: int64"
     },
     "execution_count": 49,
     "metadata": {},
     "output_type": "execute_result"
    }
   ],
   "source": [
    "predictions[\"has_cin\"].value_counts()"
   ],
   "metadata": {
    "collapsed": false,
    "pycharm": {
     "name": "#%%\n"
    }
   }
  },
  {
   "cell_type": "code",
   "execution_count": 50,
   "outputs": [
    {
     "data": {
      "text/plain": "           counts_per_well\nSnap-1977                1\nSnap-1978                2\nSnap-1979                1\nSnap-1980                1\nSnap-1981                1\n...                    ...\nSnap-2389                2\nSnap-2390                1\nSnap-2394                1\nSnap-2396                1\nSnap-2399                3\n\n[116 rows x 1 columns]",
      "text/html": "<div>\n<style scoped>\n    .dataframe tbody tr th:only-of-type {\n        vertical-align: middle;\n    }\n\n    .dataframe tbody tr th {\n        vertical-align: top;\n    }\n\n    .dataframe thead th {\n        text-align: right;\n    }\n</style>\n<table border=\"1\" class=\"dataframe\">\n  <thead>\n    <tr style=\"text-align: right;\">\n      <th></th>\n      <th>counts_per_well</th>\n    </tr>\n  </thead>\n  <tbody>\n    <tr>\n      <th>Snap-1977</th>\n      <td>1</td>\n    </tr>\n    <tr>\n      <th>Snap-1978</th>\n      <td>2</td>\n    </tr>\n    <tr>\n      <th>Snap-1979</th>\n      <td>1</td>\n    </tr>\n    <tr>\n      <th>Snap-1980</th>\n      <td>1</td>\n    </tr>\n    <tr>\n      <th>Snap-1981</th>\n      <td>1</td>\n    </tr>\n    <tr>\n      <th>...</th>\n      <td>...</td>\n    </tr>\n    <tr>\n      <th>Snap-2389</th>\n      <td>2</td>\n    </tr>\n    <tr>\n      <th>Snap-2390</th>\n      <td>1</td>\n    </tr>\n    <tr>\n      <th>Snap-2394</th>\n      <td>1</td>\n    </tr>\n    <tr>\n      <th>Snap-2396</th>\n      <td>1</td>\n    </tr>\n    <tr>\n      <th>Snap-2399</th>\n      <td>3</td>\n    </tr>\n  </tbody>\n</table>\n<p>116 rows × 1 columns</p>\n</div>"
     },
     "execution_count": 50,
     "metadata": {},
     "output_type": "execute_result"
    }
   ],
   "source": [
    "counts_per_well = pd.DataFrame({i:[g[\"has_cin\"].value_counts().sum()] for i,g in predictions[predictions[\"has_cin\"]==1].groupby(\"well\")}).T\n",
    "counts_per_well = counts_per_well.rename(columns={0:\"counts_per_well\"})\n",
    "counts_per_well"
   ],
   "metadata": {
    "collapsed": false,
    "pycharm": {
     "name": "#%%\n"
    }
   }
  },
  {
   "cell_type": "code",
   "execution_count": null,
   "outputs": [],
   "source": [],
   "metadata": {
    "collapsed": false,
    "pycharm": {
     "name": "#%%\n"
    }
   }
  }
 ],
 "metadata": {
  "kernelspec": {
   "display_name": "Python 3",
   "language": "python",
   "name": "python3"
  },
  "language_info": {
   "codemirror_mode": {
    "name": "ipython",
    "version": 2
   },
   "file_extension": ".py",
   "mimetype": "text/x-python",
   "name": "python",
   "nbconvert_exporter": "python",
   "pygments_lexer": "ipython2",
   "version": "2.7.6"
  }
 },
 "nbformat": 4,
 "nbformat_minor": 0
}