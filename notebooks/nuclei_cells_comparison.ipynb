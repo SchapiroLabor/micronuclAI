{
 "cells": [
  {
   "cell_type": "code",
   "execution_count": 2,
   "outputs": [
    {
     "name": "stderr",
     "output_type": "stream",
     "text": [
      "/Users/miguelibarra/.miniconda3/envs/cin/lib/python3.10/site-packages/scipy/__init__.py:146: UserWarning: A NumPy version >=1.16.5 and <1.23.0 is required for this version of SciPy (detected version 1.23.1\n",
      "  warnings.warn(f\"A NumPy version >={np_minversion} and <{np_maxversion}\"\n"
     ]
    }
   ],
   "source": [
    "import os\n",
    "from pathlib import Path\n",
    "import seaborn as sns\n",
    "import matplotlib.pyplot as plt\n",
    "import pandas as pd"
   ],
   "metadata": {
    "collapsed": false,
    "pycharm": {
     "name": "#%%\n"
    }
   }
  },
  {
   "cell_type": "code",
   "execution_count": 3,
   "outputs": [
    {
     "data": {
      "text/plain": "'/Users/miguelibarra/PycharmProjects/cin'"
     },
     "execution_count": 3,
     "metadata": {},
     "output_type": "execute_result"
    }
   ],
   "source": [
    "# Set working directory\n",
    "os.chdir(\"..\") # Go one level up\n",
    "os.getcwd()"
   ],
   "metadata": {
    "collapsed": false,
    "pycharm": {
     "name": "#%%\n"
    }
   }
  },
  {
   "cell_type": "code",
   "execution_count": 58,
   "outputs": [],
   "source": [
    "# Read in cropped nuclei predictions\n",
    "mn_predict = pd.read_csv(\"predictions/predictions_lindsay_all.csv\")\n",
    "# Read in cropped nuclei labeld by lindsay\n",
    "mn_labeled = pd.read_csv(\"labels/labels_lindsay_complete.csv\")"
   ],
   "metadata": {
    "collapsed": false,
    "pycharm": {
     "name": "#%%\n"
    }
   }
  },
  {
   "cell_type": "code",
   "execution_count": 59,
   "outputs": [],
   "source": [
    "mn_labeled[\"name\"] = mn_labeled[\"image\"].apply(lambda x: \"_\".join([x.split(\"/\")[-1].split(\".\")[0].replace(\"Snap-\",\"\").replace(\"_new\",\"\"), x.split(\"_\")[-1].replace(\".png\", \"\")]))\n",
    "mn_labeled[\"micronuclei\"] = mn_labeled[\"label\"].astype(bool).astype(int)\n",
    "mn_labeled = mn_labeled[[\"name\", \"micronuclei\"]]"
   ],
   "metadata": {
    "collapsed": false,
    "pycharm": {
     "name": "#%%\n"
    }
   }
  },
  {
   "cell_type": "code",
   "execution_count": 60,
   "outputs": [],
   "source": [
    "threshold = 0.85\n",
    "mn_predict[\"name\"] = mn_predict[\"image\"].apply(lambda x: \"_\".join([x.split(\".\")[0].replace(\"Snap-\",\"\").replace(\"_new\",\"\"), x.split(\"_\")[-1].replace(\".png\",\"\")]))\n",
    "mn_predict[\"micronuclei\"] = (mn_predict[\"prediction\"] > threshold).astype(int)\n",
    "mn_predict = mn_predict[[\"name\", \"micronuclei\"]]"
   ],
   "metadata": {
    "collapsed": false,
    "pycharm": {
     "name": "#%%\n"
    }
   }
  },
  {
   "cell_type": "code",
   "execution_count": 61,
   "outputs": [
    {
     "data": {
      "text/plain": "        name  micronuclei_predicted  micronuclei_labeled  file\n0     1974_0                      0                    0  1974\n1     1974_1                      0                    0  1974\n2     1974_2                      0                    0  1974\n3     1974_3                      0                    0  1974\n4     1974_4                      0                    0  1974\n...      ...                    ...                  ...   ...\n2713  2401_4                      0                    0  2401\n2714  2401_5                      0                    0  2401\n2715  2401_6                      0                    0  2401\n2716  2401_7                      0                    0  2401\n2717  2401_8                      0                    0  2401\n\n[2718 rows x 4 columns]",
      "text/html": "<div>\n<style scoped>\n    .dataframe tbody tr th:only-of-type {\n        vertical-align: middle;\n    }\n\n    .dataframe tbody tr th {\n        vertical-align: top;\n    }\n\n    .dataframe thead th {\n        text-align: right;\n    }\n</style>\n<table border=\"1\" class=\"dataframe\">\n  <thead>\n    <tr style=\"text-align: right;\">\n      <th></th>\n      <th>name</th>\n      <th>micronuclei_predicted</th>\n      <th>micronuclei_labeled</th>\n      <th>file</th>\n    </tr>\n  </thead>\n  <tbody>\n    <tr>\n      <th>0</th>\n      <td>1974_0</td>\n      <td>0</td>\n      <td>0</td>\n      <td>1974</td>\n    </tr>\n    <tr>\n      <th>1</th>\n      <td>1974_1</td>\n      <td>0</td>\n      <td>0</td>\n      <td>1974</td>\n    </tr>\n    <tr>\n      <th>2</th>\n      <td>1974_2</td>\n      <td>0</td>\n      <td>0</td>\n      <td>1974</td>\n    </tr>\n    <tr>\n      <th>3</th>\n      <td>1974_3</td>\n      <td>0</td>\n      <td>0</td>\n      <td>1974</td>\n    </tr>\n    <tr>\n      <th>4</th>\n      <td>1974_4</td>\n      <td>0</td>\n      <td>0</td>\n      <td>1974</td>\n    </tr>\n    <tr>\n      <th>...</th>\n      <td>...</td>\n      <td>...</td>\n      <td>...</td>\n      <td>...</td>\n    </tr>\n    <tr>\n      <th>2713</th>\n      <td>2401_4</td>\n      <td>0</td>\n      <td>0</td>\n      <td>2401</td>\n    </tr>\n    <tr>\n      <th>2714</th>\n      <td>2401_5</td>\n      <td>0</td>\n      <td>0</td>\n      <td>2401</td>\n    </tr>\n    <tr>\n      <th>2715</th>\n      <td>2401_6</td>\n      <td>0</td>\n      <td>0</td>\n      <td>2401</td>\n    </tr>\n    <tr>\n      <th>2716</th>\n      <td>2401_7</td>\n      <td>0</td>\n      <td>0</td>\n      <td>2401</td>\n    </tr>\n    <tr>\n      <th>2717</th>\n      <td>2401_8</td>\n      <td>0</td>\n      <td>0</td>\n      <td>2401</td>\n    </tr>\n  </tbody>\n</table>\n<p>2718 rows × 4 columns</p>\n</div>"
     },
     "execution_count": 61,
     "metadata": {},
     "output_type": "execute_result"
    }
   ],
   "source": [
    "# Merge data\n",
    "comparable_bb = pd.merge(mn_predict, mn_labeled, on=\"name\", suffixes=[\"_predicted\", \"_labeled\"])\n",
    "comparable_bb[\"file\"] = comparable_bb[\"name\"].apply(lambda x: x.split(\"_\")[0]).astype(str)\n",
    "comparable_bb"
   ],
   "metadata": {
    "collapsed": false,
    "pycharm": {
     "name": "#%%\n"
    }
   }
  },
  {
   "cell_type": "code",
   "execution_count": 62,
   "outputs": [],
   "source": [
    "# Read in well-file info\n",
    "well_file = pd.read_csv(\"original_well_file.csv\", index_col=0, dtype={\"file\":str})"
   ],
   "metadata": {
    "collapsed": false,
    "pycharm": {
     "name": "#%%\n"
    }
   }
  },
  {
   "cell_type": "code",
   "execution_count": 63,
   "outputs": [
    {
     "data": {
      "text/plain": "                  well  file     name  micronuclei_predicted  \\\n0           A375 + dox  1985   1985_0                      0   \n1           A375 + dox  1985  1985_10                      0   \n2           A375 + dox  1985  1985_11                      0   \n3           A375 + dox  1985   1985_2                      0   \n4           A375 + dox  1985   1985_3                      0   \n...                ...   ...      ...                    ...   \n2713  A375 kif2c - dox  2107   2107_5                      0   \n2714  A375 kif2c - dox  2107   2107_6                      0   \n2715  A375 kif2c - dox  2107   2107_7                      0   \n2716  A375 kif2c - dox  2107   2107_8                      0   \n2717  A375 kif2c - dox  2107   2107_9                      1   \n\n      micronuclei_labeled  \n0                       0  \n1                       0  \n2                       0  \n3                       0  \n4                       0  \n...                   ...  \n2713                    0  \n2714                    1  \n2715                    0  \n2716                    1  \n2717                    1  \n\n[2718 rows x 5 columns]",
      "text/html": "<div>\n<style scoped>\n    .dataframe tbody tr th:only-of-type {\n        vertical-align: middle;\n    }\n\n    .dataframe tbody tr th {\n        vertical-align: top;\n    }\n\n    .dataframe thead th {\n        text-align: right;\n    }\n</style>\n<table border=\"1\" class=\"dataframe\">\n  <thead>\n    <tr style=\"text-align: right;\">\n      <th></th>\n      <th>well</th>\n      <th>file</th>\n      <th>name</th>\n      <th>micronuclei_predicted</th>\n      <th>micronuclei_labeled</th>\n    </tr>\n  </thead>\n  <tbody>\n    <tr>\n      <th>0</th>\n      <td>A375 + dox</td>\n      <td>1985</td>\n      <td>1985_0</td>\n      <td>0</td>\n      <td>0</td>\n    </tr>\n    <tr>\n      <th>1</th>\n      <td>A375 + dox</td>\n      <td>1985</td>\n      <td>1985_10</td>\n      <td>0</td>\n      <td>0</td>\n    </tr>\n    <tr>\n      <th>2</th>\n      <td>A375 + dox</td>\n      <td>1985</td>\n      <td>1985_11</td>\n      <td>0</td>\n      <td>0</td>\n    </tr>\n    <tr>\n      <th>3</th>\n      <td>A375 + dox</td>\n      <td>1985</td>\n      <td>1985_2</td>\n      <td>0</td>\n      <td>0</td>\n    </tr>\n    <tr>\n      <th>4</th>\n      <td>A375 + dox</td>\n      <td>1985</td>\n      <td>1985_3</td>\n      <td>0</td>\n      <td>0</td>\n    </tr>\n    <tr>\n      <th>...</th>\n      <td>...</td>\n      <td>...</td>\n      <td>...</td>\n      <td>...</td>\n      <td>...</td>\n    </tr>\n    <tr>\n      <th>2713</th>\n      <td>A375 kif2c - dox</td>\n      <td>2107</td>\n      <td>2107_5</td>\n      <td>0</td>\n      <td>0</td>\n    </tr>\n    <tr>\n      <th>2714</th>\n      <td>A375 kif2c - dox</td>\n      <td>2107</td>\n      <td>2107_6</td>\n      <td>0</td>\n      <td>1</td>\n    </tr>\n    <tr>\n      <th>2715</th>\n      <td>A375 kif2c - dox</td>\n      <td>2107</td>\n      <td>2107_7</td>\n      <td>0</td>\n      <td>0</td>\n    </tr>\n    <tr>\n      <th>2716</th>\n      <td>A375 kif2c - dox</td>\n      <td>2107</td>\n      <td>2107_8</td>\n      <td>0</td>\n      <td>1</td>\n    </tr>\n    <tr>\n      <th>2717</th>\n      <td>A375 kif2c - dox</td>\n      <td>2107</td>\n      <td>2107_9</td>\n      <td>1</td>\n      <td>1</td>\n    </tr>\n  </tbody>\n</table>\n<p>2718 rows × 5 columns</p>\n</div>"
     },
     "execution_count": 63,
     "metadata": {},
     "output_type": "execute_result"
    }
   ],
   "source": [
    "# Add well information\n",
    "comparable_wells = pd.merge(well_file, comparable_bb, on=\"file\")\n",
    "comparable_wells"
   ],
   "metadata": {
    "collapsed": false,
    "pycharm": {
     "name": "#%%\n"
    }
   }
  },
  {
   "cell_type": "code",
   "execution_count": 64,
   "outputs": [
    {
     "data": {
      "text/plain": "                well micronuclei_predicted micronuclei_labeled\n0         A375 + dox                    43                  48\n1         A375 - dox                    83                  86\n2  A375 dnMCAK + dox                    90                  89\n3  A375 dnMCAK - dox                    45                  48\n4  A375 kif2a  + dox                    69                  71\n5   A375 kif2a - dox                    46                  43\n6   A375 kif2c + dox                    84                  85\n7   A375 kif2c - dox                    68                  79",
      "text/html": "<div>\n<style scoped>\n    .dataframe tbody tr th:only-of-type {\n        vertical-align: middle;\n    }\n\n    .dataframe tbody tr th {\n        vertical-align: top;\n    }\n\n    .dataframe thead th {\n        text-align: right;\n    }\n</style>\n<table border=\"1\" class=\"dataframe\">\n  <thead>\n    <tr style=\"text-align: right;\">\n      <th></th>\n      <th>well</th>\n      <th>micronuclei_predicted</th>\n      <th>micronuclei_labeled</th>\n    </tr>\n  </thead>\n  <tbody>\n    <tr>\n      <th>0</th>\n      <td>A375 + dox</td>\n      <td>43</td>\n      <td>48</td>\n    </tr>\n    <tr>\n      <th>1</th>\n      <td>A375 - dox</td>\n      <td>83</td>\n      <td>86</td>\n    </tr>\n    <tr>\n      <th>2</th>\n      <td>A375 dnMCAK + dox</td>\n      <td>90</td>\n      <td>89</td>\n    </tr>\n    <tr>\n      <th>3</th>\n      <td>A375 dnMCAK - dox</td>\n      <td>45</td>\n      <td>48</td>\n    </tr>\n    <tr>\n      <th>4</th>\n      <td>A375 kif2a  + dox</td>\n      <td>69</td>\n      <td>71</td>\n    </tr>\n    <tr>\n      <th>5</th>\n      <td>A375 kif2a - dox</td>\n      <td>46</td>\n      <td>43</td>\n    </tr>\n    <tr>\n      <th>6</th>\n      <td>A375 kif2c + dox</td>\n      <td>84</td>\n      <td>85</td>\n    </tr>\n    <tr>\n      <th>7</th>\n      <td>A375 kif2c - dox</td>\n      <td>68</td>\n      <td>79</td>\n    </tr>\n  </tbody>\n</table>\n</div>"
     },
     "execution_count": 64,
     "metadata": {},
     "output_type": "execute_result"
    }
   ],
   "source": [
    "# Aggregate results by well\n",
    "aggregated = pd.concat([d.sum()[[\"micronuclei_predicted\", \"micronuclei_labeled\"]].rename(g) for g, d in comparable_wells.groupby(\"well\")], axis=1).T\n",
    "aggregated = aggregated.reset_index().rename(columns={\"index\": \"well\"})\n",
    "aggregated"
   ],
   "metadata": {
    "collapsed": false,
    "pycharm": {
     "name": "#%%\n"
    }
   }
  },
  {
   "cell_type": "code",
   "execution_count": 65,
   "outputs": [
    {
     "data": {
      "text/plain": "                 well micronuclei_prediction micronuclei\n0          A375 + dox  micronuclei_predicted          43\n1          A375 - dox  micronuclei_predicted          83\n2   A375 dnMCAK + dox  micronuclei_predicted          90\n3   A375 dnMCAK - dox  micronuclei_predicted          45\n4   A375 kif2a  + dox  micronuclei_predicted          69\n5    A375 kif2a - dox  micronuclei_predicted          46\n6    A375 kif2c + dox  micronuclei_predicted          84\n7    A375 kif2c - dox  micronuclei_predicted          68\n8          A375 + dox    micronuclei_labeled          48\n9          A375 - dox    micronuclei_labeled          86\n10  A375 dnMCAK + dox    micronuclei_labeled          89\n11  A375 dnMCAK - dox    micronuclei_labeled          48\n12  A375 kif2a  + dox    micronuclei_labeled          71\n13   A375 kif2a - dox    micronuclei_labeled          43\n14   A375 kif2c + dox    micronuclei_labeled          85\n15   A375 kif2c - dox    micronuclei_labeled          79",
      "text/html": "<div>\n<style scoped>\n    .dataframe tbody tr th:only-of-type {\n        vertical-align: middle;\n    }\n\n    .dataframe tbody tr th {\n        vertical-align: top;\n    }\n\n    .dataframe thead th {\n        text-align: right;\n    }\n</style>\n<table border=\"1\" class=\"dataframe\">\n  <thead>\n    <tr style=\"text-align: right;\">\n      <th></th>\n      <th>well</th>\n      <th>micronuclei_prediction</th>\n      <th>micronuclei</th>\n    </tr>\n  </thead>\n  <tbody>\n    <tr>\n      <th>0</th>\n      <td>A375 + dox</td>\n      <td>micronuclei_predicted</td>\n      <td>43</td>\n    </tr>\n    <tr>\n      <th>1</th>\n      <td>A375 - dox</td>\n      <td>micronuclei_predicted</td>\n      <td>83</td>\n    </tr>\n    <tr>\n      <th>2</th>\n      <td>A375 dnMCAK + dox</td>\n      <td>micronuclei_predicted</td>\n      <td>90</td>\n    </tr>\n    <tr>\n      <th>3</th>\n      <td>A375 dnMCAK - dox</td>\n      <td>micronuclei_predicted</td>\n      <td>45</td>\n    </tr>\n    <tr>\n      <th>4</th>\n      <td>A375 kif2a  + dox</td>\n      <td>micronuclei_predicted</td>\n      <td>69</td>\n    </tr>\n    <tr>\n      <th>5</th>\n      <td>A375 kif2a - dox</td>\n      <td>micronuclei_predicted</td>\n      <td>46</td>\n    </tr>\n    <tr>\n      <th>6</th>\n      <td>A375 kif2c + dox</td>\n      <td>micronuclei_predicted</td>\n      <td>84</td>\n    </tr>\n    <tr>\n      <th>7</th>\n      <td>A375 kif2c - dox</td>\n      <td>micronuclei_predicted</td>\n      <td>68</td>\n    </tr>\n    <tr>\n      <th>8</th>\n      <td>A375 + dox</td>\n      <td>micronuclei_labeled</td>\n      <td>48</td>\n    </tr>\n    <tr>\n      <th>9</th>\n      <td>A375 - dox</td>\n      <td>micronuclei_labeled</td>\n      <td>86</td>\n    </tr>\n    <tr>\n      <th>10</th>\n      <td>A375 dnMCAK + dox</td>\n      <td>micronuclei_labeled</td>\n      <td>89</td>\n    </tr>\n    <tr>\n      <th>11</th>\n      <td>A375 dnMCAK - dox</td>\n      <td>micronuclei_labeled</td>\n      <td>48</td>\n    </tr>\n    <tr>\n      <th>12</th>\n      <td>A375 kif2a  + dox</td>\n      <td>micronuclei_labeled</td>\n      <td>71</td>\n    </tr>\n    <tr>\n      <th>13</th>\n      <td>A375 kif2a - dox</td>\n      <td>micronuclei_labeled</td>\n      <td>43</td>\n    </tr>\n    <tr>\n      <th>14</th>\n      <td>A375 kif2c + dox</td>\n      <td>micronuclei_labeled</td>\n      <td>85</td>\n    </tr>\n    <tr>\n      <th>15</th>\n      <td>A375 kif2c - dox</td>\n      <td>micronuclei_labeled</td>\n      <td>79</td>\n    </tr>\n  </tbody>\n</table>\n</div>"
     },
     "execution_count": 65,
     "metadata": {},
     "output_type": "execute_result"
    }
   ],
   "source": [
    "aggregated_tall = aggregated.melt(id_vars=[\"well\"], value_vars=[\"micronuclei_predicted\", \"micronuclei_labeled\"], var_name=\"micronuclei_prediction\", value_name=\"micronuclei\")\n",
    "aggregated_tall"
   ],
   "metadata": {
    "collapsed": false,
    "pycharm": {
     "name": "#%%\n"
    }
   }
  },
  {
   "cell_type": "code",
   "execution_count": 66,
   "outputs": [
    {
     "data": {
      "text/plain": "<Figure size 720x576 with 1 Axes>",
      "image/png": "[encoded data removed]"
     },
     "metadata": {},
     "output_type": "display_data"
    }
   ],
   "source": [
    "fig, ax = plt.subplots(1, 1, figsize=(10, 8))\n",
    "sns.set_style(\"whitegrid\")\n",
    "sns.scatterplot(data=aggregated_tall, x=\"well\", y=\"micronuclei\", hue=\"micronuclei_prediction\", s=150, linewidth=0, alpha=0.7)\n",
    "sns.despine(left=True, bottom=True)\n",
    "ax.set_title(\"Micronuclei per well\")\n",
    "ax.tick_params(axis='x', labelrotation=90)"
   ],
   "metadata": {
    "collapsed": false,
    "pycharm": {
     "name": "#%%\n"
    }
   }
  },
  {
   "cell_type": "code",
   "execution_count": null,
   "outputs": [],
   "source": [],
   "metadata": {
    "collapsed": false,
    "pycharm": {
     "name": "#%%\n"
    }
   }
  }
 ],
 "metadata": {
  "kernelspec": {
   "display_name": "Python 3",
   "language": "python",
   "name": "python3"
  },
  "language_info": {
   "codemirror_mode": {
    "name": "ipython",
    "version": 2
   },
   "file_extension": ".py",
   "mimetype": "text/x-python",
   "name": "python",
   "nbconvert_exporter": "python",
   "pygments_lexer": "ipython2",
   "version": "2.7.6"
  }
 },
 "nbformat": 4,
 "nbformat_minor": 0
}