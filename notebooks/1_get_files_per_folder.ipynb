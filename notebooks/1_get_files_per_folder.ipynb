{
 "cells": [
  {
   "cell_type": "code",
   "execution_count": 8,
   "outputs": [],
   "source": [
    "import os\n",
    "from pathlib import Path\n",
    "import pandas as pd"
   ],
   "metadata": {
    "collapsed": false,
    "pycharm": {
     "name": "#%%\n"
    }
   }
  },
  {
   "cell_type": "code",
   "execution_count": 18,
   "outputs": [],
   "source": [
    "# Set working directory\n",
    "os.chdir(os.path.split(os.path.dirname(os.path.realpath(\"__file__\")))[0])"
   ],
   "metadata": {
    "collapsed": false,
    "pycharm": {
     "name": "#%%\n"
    }
   }
  },
  {
   "cell_type": "code",
   "execution_count": 24,
   "outputs": [],
   "source": [
    "# Read in data folder\n",
    "folder = Path(\"./data/raw/\").resolve()"
   ],
   "metadata": {
    "collapsed": false,
    "pycharm": {
     "name": "#%%\n"
    }
   }
  },
  {
   "cell_type": "code",
   "execution_count": 39,
   "outputs": [
    {
     "data": {
      "text/plain": "                                                  path             well  \\\n0    /Users/miguelibarra/PycharmProjects/cin/data/r...  A375_dnMCAK-dox   \n1    /Users/miguelibarra/PycharmProjects/cin/data/r...  A375_dnMCAK-dox   \n2    /Users/miguelibarra/PycharmProjects/cin/data/r...  A375_dnMCAK-dox   \n3    /Users/miguelibarra/PycharmProjects/cin/data/r...  A375_dnMCAK-dox   \n4    /Users/miguelibarra/PycharmProjects/cin/data/r...  A375_dnMCAK-dox   \n..                                                 ...              ...   \n212  /Users/miguelibarra/PycharmProjects/cin/data/r...   A375_kif2c+dox   \n213  /Users/miguelibarra/PycharmProjects/cin/data/r...   A375_kif2c+dox   \n214  /Users/miguelibarra/PycharmProjects/cin/data/r...   A375_kif2c+dox   \n215  /Users/miguelibarra/PycharmProjects/cin/data/r...   A375_kif2c+dox   \n216  /Users/miguelibarra/PycharmProjects/cin/data/r...   A375_kif2c+dox   \n\n          file  \n0    Snap-2095  \n1    Snap-2094  \n2    Snap-2096  \n3    Snap-2097  \n4    Snap-2093  \n..         ...  \n212  Snap-2029  \n213  Snap-2039  \n214  Snap-2038  \n215  Snap-2048  \n216  Snap-2049  \n\n[217 rows x 3 columns]",
      "text/html": "<div>\n<style scoped>\n    .dataframe tbody tr th:only-of-type {\n        vertical-align: middle;\n    }\n\n    .dataframe tbody tr th {\n        vertical-align: top;\n    }\n\n    .dataframe thead th {\n        text-align: right;\n    }\n</style>\n<table border=\"1\" class=\"dataframe\">\n  <thead>\n    <tr style=\"text-align: right;\">\n      <th></th>\n      <th>path</th>\n      <th>well</th>\n      <th>file</th>\n    </tr>\n  </thead>\n  <tbody>\n    <tr>\n      <th>0</th>\n      <td>/Users/miguelibarra/PycharmProjects/cin/data/r...</td>\n      <td>A375_dnMCAK-dox</td>\n      <td>Snap-2095</td>\n    </tr>\n    <tr>\n      <th>1</th>\n      <td>/Users/miguelibarra/PycharmProjects/cin/data/r...</td>\n      <td>A375_dnMCAK-dox</td>\n      <td>Snap-2094</td>\n    </tr>\n    <tr>\n      <th>2</th>\n      <td>/Users/miguelibarra/PycharmProjects/cin/data/r...</td>\n      <td>A375_dnMCAK-dox</td>\n      <td>Snap-2096</td>\n    </tr>\n    <tr>\n      <th>3</th>\n      <td>/Users/miguelibarra/PycharmProjects/cin/data/r...</td>\n      <td>A375_dnMCAK-dox</td>\n      <td>Snap-2097</td>\n    </tr>\n    <tr>\n      <th>4</th>\n      <td>/Users/miguelibarra/PycharmProjects/cin/data/r...</td>\n      <td>A375_dnMCAK-dox</td>\n      <td>Snap-2093</td>\n    </tr>\n    <tr>\n      <th>...</th>\n      <td>...</td>\n      <td>...</td>\n      <td>...</td>\n    </tr>\n    <tr>\n      <th>212</th>\n      <td>/Users/miguelibarra/PycharmProjects/cin/data/r...</td>\n      <td>A375_kif2c+dox</td>\n      <td>Snap-2029</td>\n    </tr>\n    <tr>\n      <th>213</th>\n      <td>/Users/miguelibarra/PycharmProjects/cin/data/r...</td>\n      <td>A375_kif2c+dox</td>\n      <td>Snap-2039</td>\n    </tr>\n    <tr>\n      <th>214</th>\n      <td>/Users/miguelibarra/PycharmProjects/cin/data/r...</td>\n      <td>A375_kif2c+dox</td>\n      <td>Snap-2038</td>\n    </tr>\n    <tr>\n      <th>215</th>\n      <td>/Users/miguelibarra/PycharmProjects/cin/data/r...</td>\n      <td>A375_kif2c+dox</td>\n      <td>Snap-2048</td>\n    </tr>\n    <tr>\n      <th>216</th>\n      <td>/Users/miguelibarra/PycharmProjects/cin/data/r...</td>\n      <td>A375_kif2c+dox</td>\n      <td>Snap-2049</td>\n    </tr>\n  </tbody>\n</table>\n<p>217 rows × 3 columns</p>\n</div>"
     },
     "execution_count": 39,
     "metadata": {},
     "output_type": "execute_result"
    }
   ],
   "source": [
    "# Get the .csi files only\n",
    "files = [[i, i.parent.stem, i.stem] for i in folder.glob(\"**/*.czi\")]\n",
    "\n",
    "# Convert to pandas dataframe\n",
    "files = pd.DataFrame(files, columns=[\"path\", \"well\", \"file\"])"
   ],
   "metadata": {
    "collapsed": false,
    "pycharm": {
     "name": "#%%\n"
    }
   }
  },
  {
   "cell_type": "code",
   "execution_count": 46,
   "outputs": [],
   "source": [
    "# Save this file for future reference\n",
    "files.to_csv(Path('./labels/files_per_folder.csv').resolve(), index=False)"
   ],
   "metadata": {
    "collapsed": false,
    "pycharm": {
     "name": "#%%\n"
    }
   }
  },
  {
   "cell_type": "code",
   "execution_count": 45,
   "outputs": [
    {
     "data": {
      "text/plain": "A375_kif2a+dox     33\nA375+dox           30\nA375_kif2c-dox     27\nA375_dnMCAK+dox    27\nA375_dnMCAK-dox    26\nA375-dox           26\nA375_kif2a-dox     24\nA375_kif2c+dox     24\nName: well, dtype: int64"
     },
     "execution_count": 45,
     "metadata": {},
     "output_type": "execute_result"
    }
   ],
   "source": [
    "files.well.value_counts()"
   ],
   "metadata": {
    "collapsed": false,
    "pycharm": {
     "name": "#%%\n"
    }
   }
  },
  {
   "cell_type": "code",
   "execution_count": null,
   "outputs": [],
   "source": [],
   "metadata": {
    "collapsed": false,
    "pycharm": {
     "name": "#%%\n"
    }
   }
  }
 ],
 "metadata": {
  "kernelspec": {
   "display_name": "Python 3",
   "language": "python",
   "name": "python3"
  },
  "language_info": {
   "codemirror_mode": {
    "name": "ipython",
    "version": 2
   },
   "file_extension": ".py",
   "mimetype": "text/x-python",
   "name": "python",
   "nbconvert_exporter": "python",
   "pygments_lexer": "ipython2",
   "version": "2.7.6"
  }
 },
 "nbformat": 4,
 "nbformat_minor": 0
}