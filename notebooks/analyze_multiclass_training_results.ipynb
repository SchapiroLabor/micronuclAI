{
 "cells": [
  {
   "cell_type": "code",
   "execution_count": 1,
   "outputs": [],
   "source": [
    "import pandas as pd\n",
    "import numpy as np\n",
    "import matplotlib.pyplot as plt\n",
    "import seaborn as sns\n",
    "from pathlib import Path\n",
    "from sklearn.metrics import mean_squared_error, mean_absolute_error, r2_score, mean_squared_log_error, median_absolute_error, explained_variance_score, max_error, confusion_matrix, f1_score, recall_score, roc_auc_score, roc_curve, precision_score, accuracy_score, classification_report"
   ],
   "metadata": {
    "collapsed": false,
    "pycharm": {
     "name": "#%%\n"
    }
   }
  },
  {
   "cell_type": "code",
   "execution_count": 9,
   "outputs": [],
   "source": [
    "# Import predicted and actual values\n",
    "predictions = pd.read_csv('../data/multiple_micronuclei/prediction/multiclass_10K_0/cellpose2_fv20_s0.7_xms60_yms60__predictions.csv')"
   ],
   "metadata": {
    "collapsed": false,
    "pycharm": {
     "name": "#%%\n"
    }
   }
  },
  {
   "cell_type": "code",
   "execution_count": 11,
   "outputs": [],
   "source": [
    "# Binarize predictions\n",
    "predictions[\"binary\"] = (predictions['prediction'] > 0.5).astype(int)"
   ],
   "metadata": {
    "collapsed": false,
    "pycharm": {
     "name": "#%%\n"
    }
   }
  },
  {
   "cell_type": "code",
   "execution_count": 15,
   "outputs": [],
   "source": [
    "# Round predictions\n",
    "predictions[\"rounded\"] = predictions['prediction'].apply(lambda x: round(x))"
   ],
   "metadata": {
    "collapsed": false,
    "pycharm": {
     "name": "#%%\n"
    }
   }
  },
  {
   "cell_type": "code",
   "execution_count": 16,
   "outputs": [],
   "source": [
    "# Get wells from image name\n",
    "predictions['well'] = predictions['image'].apply(lambda x: \"_\".join(x.split('_')[:-1]))"
   ],
   "metadata": {
    "collapsed": false,
    "pycharm": {
     "name": "#%%\n"
    }
   }
  },
  {
   "cell_type": "code",
   "execution_count": 17,
   "outputs": [
    {
     "name": "stdout",
     "output_type": "stream",
     "text": [
      "12621_redo_brain_mets_nsclc_images_s04\n"
     ]
    }
   ],
   "source": [
    "for i, group in predictions.groupby('well'):\n",
    "    print(i)\n",
    "    onegroup = group[group['binary']==1]\n",
    "    break"
   ],
   "metadata": {
    "collapsed": false,
    "pycharm": {
     "name": "#%%\n"
    }
   }
  },
  {
   "cell_type": "code",
   "execution_count": 18,
   "outputs": [
    {
     "data": {
      "text/plain": "                                                 image  prediction  binary  \\\n4       12621_redo_brain_mets_nsclc_images_s04_286.png    1.199418       1   \n5      12621_redo_brain_mets_nsclc_images_s04_4274.png    2.130360       1   \n32     12621_redo_brain_mets_nsclc_images_s04_4512.png    0.709072       1   \n74     12621_redo_brain_mets_nsclc_images_s04_2611.png    0.852814       1   \n100    12621_redo_brain_mets_nsclc_images_s04_3527.png    0.981343       1   \n...                                                ...         ...     ...   \n38886  12621_redo_brain_mets_nsclc_images_s04_4251.png    0.780684       1   \n38892  12621_redo_brain_mets_nsclc_images_s04_2620.png    0.540623       1   \n38907  12621_redo_brain_mets_nsclc_images_s04_4279.png    0.620925       1   \n38910  12621_redo_brain_mets_nsclc_images_s04_3516.png    0.522520       1   \n38971  12621_redo_brain_mets_nsclc_images_s04_1315.png    0.640808       1   \n\n                                         well  rounded  \n4      12621_redo_brain_mets_nsclc_images_s04        1  \n5      12621_redo_brain_mets_nsclc_images_s04        2  \n32     12621_redo_brain_mets_nsclc_images_s04        1  \n74     12621_redo_brain_mets_nsclc_images_s04        1  \n100    12621_redo_brain_mets_nsclc_images_s04        1  \n...                                       ...      ...  \n38886  12621_redo_brain_mets_nsclc_images_s04        1  \n38892  12621_redo_brain_mets_nsclc_images_s04        1  \n38907  12621_redo_brain_mets_nsclc_images_s04        1  \n38910  12621_redo_brain_mets_nsclc_images_s04        1  \n38971  12621_redo_brain_mets_nsclc_images_s04        1  \n\n[1247 rows x 5 columns]",
      "text/html": "<div>\n<style scoped>\n    .dataframe tbody tr th:only-of-type {\n        vertical-align: middle;\n    }\n\n    .dataframe tbody tr th {\n        vertical-align: top;\n    }\n\n    .dataframe thead th {\n        text-align: right;\n    }\n</style>\n<table border=\"1\" class=\"dataframe\">\n  <thead>\n    <tr style=\"text-align: right;\">\n      <th></th>\n      <th>image</th>\n      <th>prediction</th>\n      <th>binary</th>\n      <th>well</th>\n      <th>rounded</th>\n    </tr>\n  </thead>\n  <tbody>\n    <tr>\n      <th>4</th>\n      <td>12621_redo_brain_mets_nsclc_images_s04_286.png</td>\n      <td>1.199418</td>\n      <td>1</td>\n      <td>12621_redo_brain_mets_nsclc_images_s04</td>\n      <td>1</td>\n    </tr>\n    <tr>\n      <th>5</th>\n      <td>12621_redo_brain_mets_nsclc_images_s04_4274.png</td>\n      <td>2.130360</td>\n      <td>1</td>\n      <td>12621_redo_brain_mets_nsclc_images_s04</td>\n      <td>2</td>\n    </tr>\n    <tr>\n      <th>32</th>\n      <td>12621_redo_brain_mets_nsclc_images_s04_4512.png</td>\n      <td>0.709072</td>\n      <td>1</td>\n      <td>12621_redo_brain_mets_nsclc_images_s04</td>\n      <td>1</td>\n    </tr>\n    <tr>\n      <th>74</th>\n      <td>12621_redo_brain_mets_nsclc_images_s04_2611.png</td>\n      <td>0.852814</td>\n      <td>1</td>\n      <td>12621_redo_brain_mets_nsclc_images_s04</td>\n      <td>1</td>\n    </tr>\n    <tr>\n      <th>100</th>\n      <td>12621_redo_brain_mets_nsclc_images_s04_3527.png</td>\n      <td>0.981343</td>\n      <td>1</td>\n      <td>12621_redo_brain_mets_nsclc_images_s04</td>\n      <td>1</td>\n    </tr>\n    <tr>\n      <th>...</th>\n      <td>...</td>\n      <td>...</td>\n      <td>...</td>\n      <td>...</td>\n      <td>...</td>\n    </tr>\n    <tr>\n      <th>38886</th>\n      <td>12621_redo_brain_mets_nsclc_images_s04_4251.png</td>\n      <td>0.780684</td>\n      <td>1</td>\n      <td>12621_redo_brain_mets_nsclc_images_s04</td>\n      <td>1</td>\n    </tr>\n    <tr>\n      <th>38892</th>\n      <td>12621_redo_brain_mets_nsclc_images_s04_2620.png</td>\n      <td>0.540623</td>\n      <td>1</td>\n      <td>12621_redo_brain_mets_nsclc_images_s04</td>\n      <td>1</td>\n    </tr>\n    <tr>\n      <th>38907</th>\n      <td>12621_redo_brain_mets_nsclc_images_s04_4279.png</td>\n      <td>0.620925</td>\n      <td>1</td>\n      <td>12621_redo_brain_mets_nsclc_images_s04</td>\n      <td>1</td>\n    </tr>\n    <tr>\n      <th>38910</th>\n      <td>12621_redo_brain_mets_nsclc_images_s04_3516.png</td>\n      <td>0.522520</td>\n      <td>1</td>\n      <td>12621_redo_brain_mets_nsclc_images_s04</td>\n      <td>1</td>\n    </tr>\n    <tr>\n      <th>38971</th>\n      <td>12621_redo_brain_mets_nsclc_images_s04_1315.png</td>\n      <td>0.640808</td>\n      <td>1</td>\n      <td>12621_redo_brain_mets_nsclc_images_s04</td>\n      <td>1</td>\n    </tr>\n  </tbody>\n</table>\n<p>1247 rows × 5 columns</p>\n</div>"
     },
     "execution_count": 18,
     "metadata": {},
     "output_type": "execute_result"
    }
   ],
   "source": [
    "onegroup"
   ],
   "metadata": {
    "collapsed": false,
    "pycharm": {
     "name": "#%%\n"
    }
   }
  },
  {
   "cell_type": "code",
   "execution_count": 50,
   "outputs": [
    {
     "name": "stdout",
     "output_type": "stream",
     "text": [
      "0.8060672026018594\n"
     ]
    }
   ],
   "source": [
    "print(explained_variance_score(predictions['targets'], predictions['rounded']))"
   ],
   "metadata": {
    "collapsed": false,
    "pycharm": {
     "name": "#%%\n"
    }
   }
  },
  {
   "cell_type": "code",
   "execution_count": 51,
   "outputs": [],
   "source": [
    "# Convert any negative scores in predictions to 0\n",
    "predictions['scores_nn'] = predictions['scores'].apply(lambda x: 0 if x < 0 else x)"
   ],
   "metadata": {
    "collapsed": false,
    "pycharm": {
     "name": "#%%\n"
    }
   }
  },
  {
   "cell_type": "code",
   "execution_count": 52,
   "outputs": [
    {
     "ename": "ValueError",
     "evalue": "multi_class must be in ('ovo', 'ovr')",
     "output_type": "error",
     "traceback": [
      "\u001B[0;31m---------------------------------------------------------------------------\u001B[0m",
      "\u001B[0;31mValueError\u001B[0m                                Traceback (most recent call last)",
      "Input \u001B[0;32mIn [52]\u001B[0m, in \u001B[0;36m<cell line: 2>\u001B[0;34m()\u001B[0m\n\u001B[1;32m      1\u001B[0m \u001B[38;5;66;03m# Calculate roc_auc_score\u001B[39;00m\n\u001B[0;32m----> 2\u001B[0m \u001B[43mroc_auc_score\u001B[49m\u001B[43m(\u001B[49m\u001B[43mpredictions\u001B[49m\u001B[43m[\u001B[49m\u001B[38;5;124;43m'\u001B[39;49m\u001B[38;5;124;43mtargets\u001B[39;49m\u001B[38;5;124;43m'\u001B[39;49m\u001B[43m]\u001B[49m\u001B[43m,\u001B[49m\u001B[43m \u001B[49m\u001B[43mpredictions\u001B[49m\u001B[43m[\u001B[49m\u001B[38;5;124;43m'\u001B[39;49m\u001B[38;5;124;43mscores_nn\u001B[39;49m\u001B[38;5;124;43m'\u001B[39;49m\u001B[43m]\u001B[49m\u001B[43m)\u001B[49m\n",
      "File \u001B[0;32m~/.miniconda3/envs/stable/lib/python3.10/site-packages/sklearn/metrics/_ranking.py:564\u001B[0m, in \u001B[0;36mroc_auc_score\u001B[0;34m(y_true, y_score, average, sample_weight, max_fpr, multi_class, labels)\u001B[0m\n\u001B[1;32m    557\u001B[0m         \u001B[38;5;28;01mraise\u001B[39;00m \u001B[38;5;167;01mValueError\u001B[39;00m(\n\u001B[1;32m    558\u001B[0m             \u001B[38;5;124m\"\u001B[39m\u001B[38;5;124mPartial AUC computation not available in \u001B[39m\u001B[38;5;124m\"\u001B[39m\n\u001B[1;32m    559\u001B[0m             \u001B[38;5;124m\"\u001B[39m\u001B[38;5;124mmulticlass setting, \u001B[39m\u001B[38;5;124m'\u001B[39m\u001B[38;5;124mmax_fpr\u001B[39m\u001B[38;5;124m'\u001B[39m\u001B[38;5;124m must be\u001B[39m\u001B[38;5;124m\"\u001B[39m\n\u001B[1;32m    560\u001B[0m             \u001B[38;5;124m\"\u001B[39m\u001B[38;5;124m set to `None`, received `max_fpr=\u001B[39m\u001B[38;5;132;01m{0}\u001B[39;00m\u001B[38;5;124m` \u001B[39m\u001B[38;5;124m\"\u001B[39m\n\u001B[1;32m    561\u001B[0m             \u001B[38;5;124m\"\u001B[39m\u001B[38;5;124minstead\u001B[39m\u001B[38;5;124m\"\u001B[39m\u001B[38;5;241m.\u001B[39mformat(max_fpr)\n\u001B[1;32m    562\u001B[0m         )\n\u001B[1;32m    563\u001B[0m     \u001B[38;5;28;01mif\u001B[39;00m multi_class \u001B[38;5;241m==\u001B[39m \u001B[38;5;124m\"\u001B[39m\u001B[38;5;124mraise\u001B[39m\u001B[38;5;124m\"\u001B[39m:\n\u001B[0;32m--> 564\u001B[0m         \u001B[38;5;28;01mraise\u001B[39;00m \u001B[38;5;167;01mValueError\u001B[39;00m(\u001B[38;5;124m\"\u001B[39m\u001B[38;5;124mmulti_class must be in (\u001B[39m\u001B[38;5;124m'\u001B[39m\u001B[38;5;124movo\u001B[39m\u001B[38;5;124m'\u001B[39m\u001B[38;5;124m, \u001B[39m\u001B[38;5;124m'\u001B[39m\u001B[38;5;124movr\u001B[39m\u001B[38;5;124m'\u001B[39m\u001B[38;5;124m)\u001B[39m\u001B[38;5;124m\"\u001B[39m)\n\u001B[1;32m    565\u001B[0m     \u001B[38;5;28;01mreturn\u001B[39;00m _multiclass_roc_auc_score(\n\u001B[1;32m    566\u001B[0m         y_true, y_score, labels, multi_class, average, sample_weight\n\u001B[1;32m    567\u001B[0m     )\n\u001B[1;32m    568\u001B[0m \u001B[38;5;28;01melif\u001B[39;00m y_type \u001B[38;5;241m==\u001B[39m \u001B[38;5;124m\"\u001B[39m\u001B[38;5;124mbinary\u001B[39m\u001B[38;5;124m\"\u001B[39m:\n",
      "\u001B[0;31mValueError\u001B[0m: multi_class must be in ('ovo', 'ovr')"
     ]
    }
   ],
   "source": [
    "# Calculate roc_auc_score\n",
    "roc_auc_score(predictions['targets'], predictions['scores_nn'])"
   ],
   "metadata": {
    "collapsed": false,
    "pycharm": {
     "name": "#%%\n"
    }
   }
  },
  {
   "cell_type": "code",
   "execution_count": 72,
   "outputs": [
    {
     "name": "stderr",
     "output_type": "stream",
     "text": [
      "/Users/miguelibarra/.miniconda3/envs/stable/lib/python3.10/site-packages/pandas/core/internals/blocks.py:402: RuntimeWarning: divide by zero encountered in log\n",
      "  result = func(self.values, **kwargs)\n"
     ]
    },
    {
     "data": {
      "text/plain": "<AxesSubplot:>"
     },
     "execution_count": 72,
     "metadata": {},
     "output_type": "execute_result"
    },
    {
     "data": {
      "text/plain": "<Figure size 640x480 with 2 Axes>",
      "image/png": "[encoded data removed]"
     },
     "metadata": {},
     "output_type": "display_data"
    }
   ],
   "source": [
    "# binarize labels\n",
    "nonzero_cm = pd.DataFrame(confusion_matrix(predictions['targets'], predictions['rounded']))\n",
    "sns.heatmap(np.log(nonzero_cm), cmap='Blues')"
   ],
   "metadata": {
    "collapsed": false,
    "pycharm": {
     "name": "#%%\n"
    }
   }
  },
  {
   "cell_type": "code",
   "execution_count": null,
   "outputs": [],
   "source": [],
   "metadata": {
    "collapsed": false,
    "pycharm": {
     "name": "#%%\n"
    }
   }
  }
 ],
 "metadata": {
  "kernelspec": {
   "display_name": "Python 3",
   "language": "python",
   "name": "python3"
  },
  "language_info": {
   "codemirror_mode": {
    "name": "ipython",
    "version": 2
   },
   "file_extension": ".py",
   "mimetype": "text/x-python",
   "name": "python",
   "nbconvert_exporter": "python",
   "pygments_lexer": "ipython2",
   "version": "2.7.6"
  }
 },
 "nbformat": 4,
 "nbformat_minor": 0
}