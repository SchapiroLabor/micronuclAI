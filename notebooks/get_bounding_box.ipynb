{
 "cells": [
  {
   "cell_type": "code",
   "execution_count": 1,
   "metadata": {
    "collapsed": true,
    "pycharm": {
     "name": "#%%\n"
    }
   },
   "outputs": [],
   "source": [
    "import os\n",
    "from os.path import abspath, join\n",
    "import numpy as np\n",
    "import pandas as pd\n",
    "from skimage import io\n",
    "import matplotlib.pyplot as plt\n",
    "import cv2\n",
    "from PIL import Image"
   ]
  },
  {
   "cell_type": "code",
   "execution_count": 2,
   "outputs": [
    {
     "data": {
      "text/plain": "'C:\\\\Users\\\\darkg\\\\PycharmProjects\\\\cin'"
     },
     "execution_count": 2,
     "metadata": {},
     "output_type": "execute_result"
    }
   ],
   "source": [
    "# Set working directory\n",
    "os.chdir(\"..\")#print(os.chdir())\n",
    "os.getcwd()"
   ],
   "metadata": {
    "collapsed": false,
    "pycharm": {
     "name": "#%%\n"
    }
   }
  },
  {
   "cell_type": "code",
   "execution_count": 3,
   "outputs": [],
   "source": [
    "# Read images and masks paths\n",
    "images_folder = abspath(\"data/cin_data_preprocessed/\")\n",
    "masks_folder = abspath(\"data/cin_segmentation_masks/\")\n",
    "out_folder = abspath(\"./out\")\n",
    "\n",
    "# Read images and masks\n",
    "images = os.listdir(images_folder)\n",
    "masks = os.listdir(masks_folder)#io.imread()"
   ],
   "metadata": {
    "collapsed": false,
    "pycharm": {
     "name": "#%%\n"
    }
   }
  },
  {
   "cell_type": "code",
   "execution_count": 9,
   "outputs": [],
   "source": [
    "def get_single_cell_coordinates(mask, cellid, expansion=10):\n",
    "    # Focus on one cell at a time\n",
    "    singlecell = mask == cellid\n",
    "\n",
    "    # Get non-zero coordinates for x and y\n",
    "    x,y = np.nonzero(singlecell)\n",
    "\n",
    "    # Carefully expand the coordinates, we can not have coordinates less than 0\n",
    "    # and we can not have coordinates greater than the size of the image\n",
    "    x1 = x.min()-expansion if x.min()-expansion > 0 else 0\n",
    "    x2 = x.max()+expansion if x.max()+expansion < mask.shape[0] else mask.shape[0]\n",
    "    y1 = y.min()-expansion if y.min()-expansion > 0 else 0\n",
    "    y2 = y.max()+expansion if y.max()+expansion < mask.shape[1] else mask.shape[1]\n",
    "\n",
    "    # Return coordinates for the cell with expansion\n",
    "    return x1, x2, y1, y2\n",
    "\n",
    "def pad_image(im, size):\n",
    "    # Create empy array of the desired size\n",
    "    black = np.zeros(size)\n",
    "\n",
    "    # Check if im size is smaller than desired size\n",
    "    # TODO: Handle the case when is not\n",
    "    if sc.shape[0] < black.shape[0] and sc.shape[1] < black.shape[1]:\n",
    "\n",
    "        # Calculate the difference between im and size\n",
    "        dif_x = black.shape[0]-sc.shape[0]\n",
    "        dif_y = black.shape[1]-sc.shape[1]\n",
    "\n",
    "        # Divide the difference between im and size by 2\n",
    "        # Fill blank image with original image on the new coordinates.\n",
    "        black[dif_x//2:dif_x//2+sc.shape[0], dif_y//2:dif_y//2+sc.shape[1]] = sc\n",
    "\n",
    "    return black\n",
    "\n",
    "\n",
    "def im_min_max_scaler(im, minmaxrange=(0, 1)):\n",
    "    # Unpack value range\n",
    "    min, max = minmaxrange\n",
    "\n",
    "    # Normal scaling (0 - 1)\n",
    "    im = (im - im.min()) / (im.max() - im.min())\n",
    "\n",
    "    # In case of different range re-scale\n",
    "    im = im * (max - min) + min\n",
    "\n",
    "    return im\n",
    "\n",
    "\n",
    "# Iterate over each file on masks path\n",
    "for im_f, mask_f in zip(images, masks):\n",
    "    # Running one example only\n",
    "    try:\n",
    "        # Read image and mask\n",
    "        im = io.imread(join(images_folder, im_f))[:,:,1]\n",
    "        mask = np.load(join(masks_folder, mask_f))\n",
    "\n",
    "        # Iterate over each cell in the mask and get single cell bounding boxes sc_bb\n",
    "        mask_sc_bb = [get_single_cell_coordinates(mask, i, expansion=100) for i in range(1, mask.max()+1)]\n",
    "\n",
    "\n",
    "        # Iterate over each nuclei\n",
    "        for cellid, coord in enumerate(mask_sc_bb):\n",
    "            x1, x2, y1, y2  = coord\n",
    "\n",
    "            # Get single cell\n",
    "            sc = im[x1:x2, y1:y2]\n",
    "\n",
    "            if sc.shape[0]/sc.shape[1] > 1.4 or sc.shape[0]/sc.shape[1] < 0.55:\n",
    "                continue\n",
    "            else:\n",
    "                # Scale image\n",
    "                sc = im_min_max_scaler(sc, minmaxrange=(0,255))\n",
    "\n",
    "                # Pad image\n",
    "                sc = pad_image(sc, (512, 512))\n",
    "\n",
    "                # Save SC image\n",
    "                cv2.imwrite(join(out_folder,f\"{mask_f}_{cellid}.png\"), sc)\n",
    "    except IndexError:\n",
    "        print(im_f, mask_f)"
   ],
   "metadata": {
    "collapsed": false,
    "pycharm": {
     "name": "#%%\n"
    }
   }
  },
  {
   "cell_type": "code",
   "execution_count": null,
   "outputs": [],
   "source": [],
   "metadata": {
    "collapsed": false,
    "pycharm": {
     "name": "#%%\n"
    }
   }
  }
 ],
 "metadata": {
  "kernelspec": {
   "display_name": "Python 3",
   "language": "python",
   "name": "python3"
  },
  "language_info": {
   "codemirror_mode": {
    "name": "ipython",
    "version": 2
   },
   "file_extension": ".py",
   "mimetype": "text/x-python",
   "name": "python",
   "nbconvert_exporter": "python",
   "pygments_lexer": "ipython2",
   "version": "2.7.6"
  }
 },
 "nbformat": 4,
 "nbformat_minor": 0
}